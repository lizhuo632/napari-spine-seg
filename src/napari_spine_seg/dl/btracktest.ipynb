{
 "cells": [
  {
   "cell_type": "code",
   "execution_count": 1,
   "metadata": {},
   "outputs": [],
   "source": [
    "import btrack\n",
    "from skimage.io import imread\n",
    "\n",
    "# load your segmentation data\n",
    "segmentation = imread('/share/data/CryoET_Data/lizhuo/trace/btracktest/l6-actin_actin_result_1024-10.tif')\n",
    "\n",
    "# create btrack objects (with properties) from the segmentation data\n",
    "# (you can also calculate properties, based on scikit-image regionprops)\n",
    "objects = btrack.utils.segmentation_to_objects(\n",
    "  segmentation, properties=('area', )\n",
    ")\n",
    "\n",
    "# initialise a tracker session using a context manager\n",
    "with btrack.BayesianTracker() as tracker:\n",
    "\n",
    "  # configure the tracker using a config file\n",
    "  tracker.configure('/share/data/CryoET_Data/lizhuo/trace/btracktest//cell_config.json')\n",
    "\n",
    "  # append the objects to be tracked\n",
    "  tracker.append(objects)\n",
    "\n",
    "  # set the volume (Z axis volume limits default to [-1e5, 1e5] for 2D data)\n",
    "  tracker.volume = ((0, 1200), (0, 1600))\n",
    "\n",
    "  # track them (in interactive mode)\n",
    "  tracker.track_interactive(step_size=100)\n",
    "\n",
    "  # generate hypotheses and run the global optimizer\n",
    "  tracker.optimize()\n",
    "\n",
    "  # store the data in an HDF5 file\n",
    "  tracker.export('/share/data/CryoET_Data/lizhuo/trace/btracktest/tracks.h5', obj_type='obj_type_1')\n",
    "\n",
    "  # get the tracks as a python list\n",
    "  tracks = tracker.tracks\n",
    "\n",
    "  # optional: get the data in a format for napari\n",
    "  data, properties, graph = tracker.to_napari()"
   ]
  },
  {
   "cell_type": "code",
   "execution_count": null,
   "metadata": {},
   "outputs": [],
   "source": []
  }
 ],
 "metadata": {
  "kernelspec": {
   "display_name": "deeplearning",
   "language": "python",
   "name": "python3"
  },
  "language_info": {
   "codemirror_mode": {
    "name": "ipython",
    "version": 3
   },
   "file_extension": ".py",
   "mimetype": "text/x-python",
   "name": "python",
   "nbconvert_exporter": "python",
   "pygments_lexer": "ipython3",
   "version": "3.8.18"
  }
 },
 "nbformat": 4,
 "nbformat_minor": 2
}

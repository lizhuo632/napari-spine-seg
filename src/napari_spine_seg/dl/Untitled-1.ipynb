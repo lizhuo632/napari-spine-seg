{
 "cells": [
  {
   "cell_type": "code",
   "execution_count": 1,
   "metadata": {},
   "outputs": [],
   "source": [
    "import numpy as np\n",
    "import tifffile as tiff"
   ]
  },
  {
   "cell_type": "code",
   "execution_count": 2,
   "metadata": {},
   "outputs": [],
   "source": [
    "spine = tiff.imread('/share/data/CryoET_Data/lizhuo/SIM-data/mem/AVG_roi3_seq3_3D-SIM561_RedCh_SIrecon-spine.tif')"
   ]
  },
  {
   "cell_type": "code",
   "execution_count": 3,
   "metadata": {},
   "outputs": [
    {
     "data": {
      "text/plain": [
       "266"
      ]
     },
     "execution_count": 3,
     "metadata": {},
     "output_type": "execute_result"
    }
   ],
   "source": [
    "spine.max()"
   ]
  },
  {
   "cell_type": "code",
   "execution_count": 4,
   "metadata": {},
   "outputs": [],
   "source": [
    "spine[spine>0.5] = 1"
   ]
  },
  {
   "cell_type": "code",
   "execution_count": 5,
   "metadata": {},
   "outputs": [
    {
     "name": "stderr",
     "output_type": "stream",
     "text": [
      "/tmp/ipykernel_548428/3891375132.py:1: DeprecationWarning: <tifffile.imsave> is deprecated. Use tifffile.imwrite\n",
      "  tiff.imsave('/share/data/CryoET_Data/lizhuo/SIM-data/mem/spine=1.tif', spine.astype(np.uint8))\n"
     ]
    }
   ],
   "source": [
    "tiff.imsave('/share/data/CryoET_Data/lizhuo/SIM-data/mem/spine=1.tif', spine.astype(np.uint8))"
   ]
  },
  {
   "cell_type": "code",
   "execution_count": 6,
   "metadata": {},
   "outputs": [
    {
     "name": "stderr",
     "output_type": "stream",
     "text": [
      "/tmp/ipykernel_548428/1781698818.py:3: DeprecationWarning: <tifffile.imsave> is deprecated. Use tifffile.imwrite\n",
      "  tiff.imsave('/share/data/CryoET_Data/lizhuo/SIM-data/mem/filo=1.tif', filo.astype(np.uint8))\n"
     ]
    }
   ],
   "source": [
    "filo = tiff.imread('/share/data/CryoET_Data/lizhuo/SIM-data/mem/AVG_roi3_seq3_3D-SIM561_RedCh_SIrecon-filo.tif')\n",
    "filo[filo>0.5] = 1\n",
    "tiff.imsave('/share/data/CryoET_Data/lizhuo/SIM-data/mem/filo=1.tif', filo.astype(np.uint8))"
   ]
  },
  {
   "cell_type": "code",
   "execution_count": 7,
   "metadata": {},
   "outputs": [
    {
     "name": "stderr",
     "output_type": "stream",
     "text": [
      "/tmp/ipykernel_548428/3125071856.py:3: DeprecationWarning: <tifffile.imsave> is deprecated. Use tifffile.imwrite\n",
      "  tiff.imsave('/share/data/CryoET_Data/lizhuo/SIM-data/mem/sum=1.tif', sum.astype(np.uint8))\n"
     ]
    }
   ],
   "source": [
    "sum = spine + filo\n",
    "sum[sum>0.5] = 1\n",
    "tiff.imsave('/share/data/CryoET_Data/lizhuo/SIM-data/mem/sum=1.tif', sum.astype(np.uint8))"
   ]
  },
  {
   "cell_type": "code",
   "execution_count": 8,
   "metadata": {},
   "outputs": [
    {
     "name": "stderr",
     "output_type": "stream",
     "text": [
      "/tmp/ipykernel_548428/569598130.py:3: DeprecationWarning: <tifffile.imsave> is deprecated. Use tifffile.imwrite\n",
      "  tiff.imsave('/share/data/CryoET_Data/lizhuo/SIM-data/mem/den=1.tif', den.astype(np.uint8))\n"
     ]
    }
   ],
   "source": [
    "den =  tiff.imread('/share/data/CryoET_Data/lizhuo/SIM-data/mem/AVG_roi3_seq3_3D-SIM561_RedCh_SIrecon-den.tif')\n",
    "den[den>0.5] = 1\n",
    "tiff.imsave('/share/data/CryoET_Data/lizhuo/SIM-data/mem/den=1.tif', den.astype(np.uint8))"
   ]
  },
  {
   "cell_type": "code",
   "execution_count": 9,
   "metadata": {},
   "outputs": [],
   "source": [
    "sum += sum\n",
    "all = sum + den\n",
    "all[all>2] = 2"
   ]
  },
  {
   "cell_type": "code",
   "execution_count": 10,
   "metadata": {},
   "outputs": [
    {
     "name": "stderr",
     "output_type": "stream",
     "text": [
      "/tmp/ipykernel_548428/2541810562.py:1: DeprecationWarning: <tifffile.imsave> is deprecated. Use tifffile.imwrite\n",
      "  tiff.imsave('/share/data/CryoET_Data/lizhuo/SIM-data/mem/den1-spinefilo2.tif', all.astype(np.uint8))\n"
     ]
    }
   ],
   "source": [
    "tiff.imsave('/share/data/CryoET_Data/lizhuo/SIM-data/mem/den1-spinefilo2.tif', all.astype(np.uint8))"
   ]
  },
  {
   "cell_type": "code",
   "execution_count": 23,
   "metadata": {},
   "outputs": [
    {
     "data": {
      "text/plain": [
       "(1024, 1024)"
      ]
     },
     "execution_count": 23,
     "metadata": {},
     "output_type": "execute_result"
    }
   ],
   "source": [
    "mask2 = tiff.imread('/share/data/CryoET_Data/lizhuo/SIM-data/mem/2-den1-spine2+.tif')\n",
    "mask2.shape"
   ]
  },
  {
   "cell_type": "code",
   "execution_count": 24,
   "metadata": {},
   "outputs": [
    {
     "name": "stderr",
     "output_type": "stream",
     "text": [
      "/tmp/ipykernel_548428/145260491.py:6: DeprecationWarning: <tifffile.imsave> is deprecated. Use tifffile.imwrite\n",
      "  tiff.imsave('/share/data/CryoET_Data/lizhuo/SIM-data/mem/2-den1-spinefilo2.tif', spine2.astype(np.uint8))\n"
     ]
    }
   ],
   "source": [
    "spine2 = mask2\n",
    "\n",
    "\n",
    "spine2[spine2>1.5] = 2\n",
    "\n",
    "tiff.imsave('/share/data/CryoET_Data/lizhuo/SIM-data/mem/2-den1-spinefilo2.tif', spine2.astype(np.uint8))"
   ]
  },
  {
   "cell_type": "code",
   "execution_count": 4,
   "metadata": {},
   "outputs": [
    {
     "name": "stderr",
     "output_type": "stream",
     "text": [
      "/tmp/ipykernel_656860/3464134515.py:5: DeprecationWarning: <tifffile.imsave> is deprecated. Use tifffile.imwrite\n",
      "  tiff.imsave('/share/data/CryoET_Data/lizhuo/SIM-data/actin/4_spine=1.tif', act.astype(np.uint8))\n"
     ]
    }
   ],
   "source": [
    "import numpy as np\n",
    "import tifffile as tiff\n",
    "\n",
    "act = tiff.imread('/share/data/CryoET_Data/lizhuo/SIM-data/actin/4_mask.tif')\n",
    "act[act>0.5] = 1\n",
    "tiff.imsave('/share/data/CryoET_Data/lizhuo/SIM-data/actin/4_spine=1.tif', act.astype(np.uint8))"
   ]
  },
  {
   "cell_type": "code",
   "execution_count": null,
   "metadata": {},
   "outputs": [],
   "source": []
  }
 ],
 "metadata": {
  "kernelspec": {
   "display_name": "deeplearning",
   "language": "python",
   "name": "python3"
  },
  "language_info": {
   "codemirror_mode": {
    "name": "ipython",
    "version": 3
   },
   "file_extension": ".py",
   "mimetype": "text/x-python",
   "name": "python",
   "nbconvert_exporter": "python",
   "pygments_lexer": "ipython3",
   "version": "3.8.17"
  }
 },
 "nbformat": 4,
 "nbformat_minor": 2
}
